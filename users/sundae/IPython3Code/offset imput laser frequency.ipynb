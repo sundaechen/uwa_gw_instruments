{
 "cells": [
  {
   "cell_type": "code",
   "execution_count": 1,
   "metadata": {
    "collapsed": true
   },
   "outputs": [],
   "source": [
    "from pykat import finesse\n",
    "import matplotlib.pyplot as plt\n",
    "%matplotlib inline"
   ]
  },
  {
   "cell_type": "code",
   "execution_count": 12,
   "metadata": {},
   "outputs": [
    {
     "name": "stdout",
     "output_type": "stream",
     "text": [
      "--------------------------------------------------------------\n",
      "Running kat - Started at 2017-05-26 15:43:15.568902\n"
     ]
    },
    {
     "name": "stderr",
     "output_type": "stream",
     "text": [
      "\r",
      "  0% | ETA:  --:--:-- | Calculating                                            \r",
      "  1% | ETA:  0:00:00 | Calculating                                             \r",
      "  2% | ETA:  0:00:00 | Calculating                                             \r",
      "  3% | ETA:  0:00:00 | Calculating                                             \r",
      "  4% | ETA:  0:00:00 | Calculating                                             \r",
      "  5% | ETA:  0:00:00 | Calculating                                             \r",
      "  6% | ETA:  0:00:00 | Calculating                                             \r",
      "  7% | ETA:  0:00:00 | Calculating                                             \r",
      "  8% | ETA:  0:00:00 | Calculating                                             \r",
      "  9% | ETA:  0:00:00 | Calculating                                             \r",
      " 10% | ETA:  0:00:00 | Calculating                                             \r",
      " 11% | ETA:  0:00:00 | Calculating                                             \r",
      " 12% | ETA:  0:00:00 | Calculating                                             \r",
      " 13% | ETA:  0:00:00 | Calculating                                             \r",
      " 14% | ETA:  0:00:00 | Calculating                                             \r",
      " 15% | ETA:  0:00:00 | Calculating                                             \r",
      " 16% | ETA:  0:00:00 | Calculating                                             \r",
      " 17% | ETA:  0:00:00 | Calculating                                             \r",
      " 18% | ETA:  0:00:00 | Calculating                                             \r",
      " 19% | ETA:  0:00:00 | Calculating                                             \r",
      " 20% | ETA:  0:00:00 | Calculating                                             \r",
      " 21% | ETA:  0:00:00 | Calculating                                             \r",
      " 22% | ETA:  0:00:00 | Calculating                                             \r",
      " 23% | ETA:  0:00:00 | Calculating                                             \r",
      " 24% | ETA:  0:00:00 | Calculating                                             \r",
      " 25% | ETA:  0:00:00 | Calculating                                             \r",
      " 26% | ETA:  0:00:00 | Calculating                                             \r",
      " 27% | ETA:  0:00:00 | Calculating                                             \r",
      " 28% | ETA:  0:00:00 | Calculating                                             \r",
      " 29% | ETA:  0:00:00 | Calculating                                             \r",
      " 30% | ETA:  0:00:00 | Calculating                                             \r",
      " 31% | ETA:  0:00:00 | Calculating                                             \r",
      " 32% | ETA:  0:00:00 | Calculating                                             \r",
      " 33% | ETA:  0:00:00 | Calculating                                             \r",
      " 34% | ETA:  0:00:00 | Calculating                                             \r",
      " 35% | ETA:  0:00:00 | Calculating                                             \r",
      " 36% | ETA:  0:00:00 | Calculating                                             \r",
      " 37% | ETA:  0:00:00 | Calculating                                             \r",
      " 38% | ETA:  0:00:00 | Calculating                                             \r",
      " 39% | ETA:  0:00:00 | Calculating                                             \r",
      " 40% | ETA:  0:00:00 | Calculating                                             \r",
      " 41% | ETA:  0:00:00 | Calculating                                             \r",
      " 42% | ETA:  0:00:00 | Calculating                                             \r",
      " 43% | ETA:  0:00:00 | Calculating                                             \r",
      " 44% | ETA:  0:00:00 | Calculating                                             \r",
      " 45% | ETA:  0:00:00 | Calculating                                             \r",
      " 46% | ETA:  0:00:00 | Calculating                                             \r",
      " 47% | ETA:  0:00:00 | Calculating                                             \r",
      " 48% | ETA:  0:00:00 | Calculating                                             \r",
      " 49% | ETA:  0:00:00 | Calculating                                             \r",
      " 50% | ETA:  0:00:00 | Calculating                                             \r",
      " 51% | ETA:  0:00:00 | Calculating                                             \r",
      " 52% | ETA:  0:00:00 | Calculating                                             \r",
      " 53% | ETA:  0:00:00 | Calculating                                             \r",
      " 54% | ETA:  0:00:00 | Calculating                                             \r",
      " 55% | ETA:  0:00:00 | Calculating                                             \r",
      " 56% | ETA:  0:00:00 | Calculating                                             \r",
      " 57% | ETA:  0:00:00 | Calculating                                             \r",
      " 58% | ETA:  0:00:00 | Calculating                                             \r",
      " 59% | ETA:  0:00:00 | Calculating                                             \r",
      " 60% | ETA:  0:00:00 | Calculating                                             \r",
      " 61% | ETA:  0:00:00 | Calculating                                             \r",
      " 62% | ETA:  0:00:00 | Calculating                                             \r",
      " 63% | ETA:  0:00:00 | Calculating                                             \r",
      " 64% | ETA:  0:00:00 | Calculating                                             \r",
      " 65% | ETA:  0:00:00 | Calculating                                             \r",
      " 66% | ETA:  0:00:00 | Calculating                                             \r",
      " 67% | ETA:  0:00:00 | Calculating                                             \r",
      " 68% | ETA:  0:00:00 | Calculating                                             \r",
      " 69% | ETA:  0:00:00 | Calculating                                             \r",
      " 70% | ETA:  0:00:00 | Calculating                                             \r",
      " 71% | ETA:  0:00:00 | Calculating                                             \r",
      " 72% | ETA:  0:00:00 | Calculating                                             \r",
      " 73% | ETA:  0:00:00 | Calculating                                             \r",
      " 74% | ETA:  0:00:00 | Calculating                                             \r",
      " 75% | ETA:  0:00:00 | Calculating                                             \r",
      " 76% | ETA:  0:00:00 | Calculating                                             \r",
      " 77% | ETA:  0:00:00 | Calculating                                             \r",
      " 78% | ETA:  0:00:00 | Calculating                                             \r",
      " 79% | ETA:  0:00:00 | Calculating                                             \r",
      " 80% | ETA:  0:00:00 | Calculating                                             \r",
      " 81% | ETA:  0:00:00 | Calculating                                             \r",
      " 82% | ETA:  0:00:00 | Calculating                                             \r",
      " 83% | ETA:  0:00:00 | Calculating                                             \r",
      " 84% | ETA:  0:00:00 | Calculating                                             \r",
      " 85% | ETA:  0:00:00 | Calculating                                             \r",
      " 86% | ETA:  0:00:00 | Calculating                                             \r",
      " 87% | ETA:  0:00:00 | Calculating                                             \r",
      " 88% | ETA:  0:00:00 | Calculating                                             \r",
      " 89% | ETA:  0:00:00 | Calculating                                             \r",
      " 90% | ETA:  0:00:00 | Calculating                                             \r",
      " 91% | ETA:  0:00:00 | Calculating                                             \r",
      " 92% | ETA:  0:00:00 | Calculating                                             \r",
      " 93% | ETA:  0:00:00 | Calculating                                             \r",
      " 94% | ETA:  0:00:00 | Calculating                                             \r",
      " 95% | ETA:  0:00:00 | Calculating                                             \r",
      " 96% | ETA:  0:00:00 | Calculating                                             \r",
      " 97% | ETA:  0:00:00 | Calculating                                             \r",
      " 98% | ETA:  0:00:00 | Calculating                                             \r",
      " 99% | ETA:  0:00:00 | Calculating                                             \r",
      "100% | ETA:  0:00:00 | Calculating                                             "
     ]
    },
    {
     "name": "stdout",
     "output_type": "stream",
     "text": [
      "\n",
      "Finished in 0.278179 seconds\n",
      "\r\n",
      "------------------------------------------------------------------------\r\n",
      "                     FINESSE pre-2.1.0    (build pre-2.1.0-225-g61a5d92)\r\n",
      "       o_.-=.        Frequency domain INterferomEter Simulation SoftwarE\r\n",
      "      (\\'\".\\|        23.04.2016         http://www.gwoptics.org/finesse/\r\n",
      "      .>' (_--.      \r\n",
      "   _=/d   ,^\\        Input file C:\\Users\\Xu\\AppData\\Local\\Temp\\tmppnhmh5gq.kat,\r\n",
      "  ~~ \\)-'   '        Output file C:\\Users\\Xu\\AppData\\Local\\Temp\\tmppnhmh5gq.out,\r\n",
      "     / |             Gnuplot file C:\\Users\\Xu\\AppData\\Local\\Temp\\tmppnhmh5gq.gnu \r\n",
      "    '  '                                        Fri May 26 15:43:15 2017\r\n",
      "------------------------------------------------------------------------\r\n",
      " --- cavity tracing\r\n",
      " cavity cavity1:\r\n",
      "  cavity is stable! Eigenvalues:\r\n",
      "  q=-0.6+0.489898j, w0=407.332148623855um z=-600mm m=-0.92\r\n",
      "  finesse : 29.79, round-trip power loss: 0.19 [/100]\r\n",
      "  opt. length: 2.4m, FSR: 124.913524166667MHz\r\n",
      "  FWHM: 4.19314230128904MHz (pole: 2.09657115064452MHz)\r\n",
      "  RT Gouy: 156.926081934369 deg (mode sep.: 54.4505275780253MHz)\r\n",
      " \r\n",
      " \r\n",
      " computation time:  0.245172s\r\n",
      "\n"
     ]
    },
    {
     "data": {
      "image/png": "[encoded data removed]",
      "text/plain": [
       "<matplotlib.figure.Figure at 0x686d970a90>"
      ]
     },
     "metadata": {},
     "output_type": "display_data"
    }
   ],
   "source": [
    "kat = finesse.kat()\n",
    "kat.parseCommands('''\n",
    "l i1 1 0 n1\n",
    "s s0 1 n1 n3\n",
    "\n",
    "m m1 0.9 0.0001 0 n3 n4\n",
    "s s_cav 1.2 n4 n5\n",
    "m m2 0.9 0.1 0 n5 n6\n",
    "attr m1 Rc -1\n",
    "attr m2 Rc 1\n",
    "\n",
    "cav cavity1 m1 n4 m2 n5\n",
    "maxtem 3\n",
    "pd pow n4\n",
    "\n",
    "xaxis m2 phi lin -40 40 2000\n",
    "%xaxis i1 f lin -10M 10M 200\n",
    "trace 2\n",
    "''')\n",
    "out = kat.run()\n",
    "plt.plot(out.x, out['pow'])\n",
    "print(out.stdout)"
   ]
  },
  {
   "cell_type": "code",
   "execution_count": null,
   "metadata": {
    "collapsed": true
   },
   "outputs": [],
   "source": []
  }
 ],
 "metadata": {
  "kernelspec": {
   "display_name": "Python 3",
   "language": "python",
   "name": "python3"
  },
  "language_info": {
   "codemirror_mode": {
    "name": "ipython",
    "version": 3
   },
   "file_extension": ".py",
   "mimetype": "text/x-python",
   "name": "python",
   "nbconvert_exporter": "python",
   "pygments_lexer": "ipython3",
   "version": "3.6.0"
  }
 },
 "nbformat": 4,
 "nbformat_minor": 2
}
