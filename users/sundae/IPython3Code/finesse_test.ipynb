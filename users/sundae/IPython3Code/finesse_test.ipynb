{
 "cells": [
  {
   "cell_type": "code",
   "execution_count": 2,
   "metadata": {},
   "outputs": [
    {
     "name": "stdout",
     "output_type": "stream",
     "text": [
      "--------------------------------------------------------------\n",
      "Running kat - Started at 2017-05-25 15:22:40.720841\n"
     ]
    },
    {
     "name": "stderr",
     "output_type": "stream",
     "text": [
      "\r",
      "  0% | ETA:  --:--:-- | Calculating                                            \r",
      "  1% | ETA:  0:00:00 | Calculating                                             \r",
      "  2% | ETA:  0:00:00 | Calculating                                             \r",
      "  3% | ETA:  0:00:00 | Calculating                                             \r",
      "  4% | ETA:  0:00:00 | Calculating                                             \r",
      "  5% | ETA:  0:00:00 | Calculating                                             \r",
      "  6% | ETA:  0:00:00 | Calculating                                             \r",
      "  7% | ETA:  0:00:00 | Calculating                                             \r",
      "  8% | ETA:  0:00:00 | Calculating                                             \r",
      "  9% | ETA:  0:00:00 | Calculating                                             \r",
      " 10% | ETA:  0:00:00 | Calculating                                             \r",
      " 11% | ETA:  0:00:00 | Calculating                                             \r",
      " 12% | ETA:  0:00:00 | Calculating                                             \r",
      " 13% | ETA:  0:00:00 | Calculating                                             \r",
      " 14% | ETA:  0:00:00 | Calculating                                             \r",
      " 15% | ETA:  0:00:00 | Calculating                                             \r",
      " 16% | ETA:  0:00:00 | Calculating                                             \r",
      " 17% | ETA:  0:00:00 | Calculating                                             \r",
      " 18% | ETA:  0:00:00 | Calculating                                             \r",
      " 19% | ETA:  0:00:00 | Calculating                                             \r",
      " 20% | ETA:  0:00:00 | Calculating                                             \r",
      " 21% | ETA:  0:00:00 | Calculating                                             \r",
      " 22% | ETA:  0:00:00 | Calculating                                             \r",
      " 23% | ETA:  0:00:00 | Calculating                                             \r",
      " 24% | ETA:  0:00:00 | Calculating                                             \r",
      " 25% | ETA:  0:00:00 | Calculating                                             \r",
      " 26% | ETA:  0:00:00 | Calculating                                             \r",
      " 27% | ETA:  0:00:00 | Calculating                                             \r",
      " 28% | ETA:  0:00:00 | Calculating                                             \r",
      " 29% | ETA:  0:00:00 | Calculating                                             \r",
      " 30% | ETA:  0:00:00 | Calculating                                             \r",
      " 31% | ETA:  0:00:00 | Calculating                                             \r",
      " 32% | ETA:  0:00:00 | Calculating                                             \r",
      " 33% | ETA:  0:00:00 | Calculating                                             \r",
      " 34% | ETA:  0:00:00 | Calculating                                             \r",
      " 35% | ETA:  0:00:00 | Calculating                                             \r",
      " 36% | ETA:  0:00:00 | Calculating                                             \r",
      " 37% | ETA:  0:00:00 | Calculating                                             \r",
      " 38% | ETA:  0:00:00 | Calculating                                             \r",
      " 39% | ETA:  0:00:00 | Calculating                                             \r",
      " 40% | ETA:  0:00:00 | Calculating                                             \r",
      " 41% | ETA:  0:00:00 | Calculating                                             \r",
      " 42% | ETA:  0:00:00 | Calculating                                             \r",
      " 43% | ETA:  0:00:00 | Calculating                                             \r",
      " 44% | ETA:  0:00:00 | Calculating                                             \r",
      " 45% | ETA:  0:00:00 | Calculating                                             \r",
      " 46% | ETA:  0:00:00 | Calculating                                             \r",
      " 47% | ETA:  0:00:00 | Calculating                                             \r",
      " 48% | ETA:  0:00:00 | Calculating                                             \r",
      " 49% | ETA:  0:00:00 | Calculating                                             \r",
      " 50% | ETA:  0:00:00 | Calculating                                             \r",
      " 51% | ETA:  0:00:00 | Calculating                                             \r",
      " 52% | ETA:  0:00:00 | Calculating                                             \r",
      " 53% | ETA:  0:00:00 | Calculating                                             \r",
      " 54% | ETA:  0:00:00 | Calculating                                             \r",
      " 55% | ETA:  0:00:00 | Calculating                                             \r",
      " 56% | ETA:  0:00:00 | Calculating                                             \r",
      " 57% | ETA:  0:00:00 | Calculating                                             \r",
      " 58% | ETA:  0:00:00 | Calculating                                             \r",
      " 59% | ETA:  0:00:00 | Calculating                                             \r",
      " 60% | ETA:  0:00:00 | Calculating                                             \r",
      " 61% | ETA:  0:00:00 | Calculating                                             \r",
      " 62% | ETA:  0:00:00 | Calculating                                             \r",
      " 63% | ETA:  0:00:00 | Calculating                                             \r",
      " 64% | ETA:  0:00:00 | Calculating                                             \r",
      " 65% | ETA:  0:00:00 | Calculating                                             \r",
      " 66% | ETA:  0:00:00 | Calculating                                             \r",
      " 67% | ETA:  0:00:00 | Calculating                                             \r",
      " 68% | ETA:  0:00:00 | Calculating                                             \r",
      " 69% | ETA:  0:00:00 | Calculating                                             \r",
      " 70% | ETA:  0:00:00 | Calculating                                             \r",
      " 71% | ETA:  0:00:00 | Calculating                                             \r",
      " 72% | ETA:  0:00:00 | Calculating                                             \r",
      " 73% | ETA:  0:00:00 | Calculating                                             \r",
      " 74% | ETA:  0:00:00 | Calculating                                             \r",
      " 75% | ETA:  0:00:00 | Calculating                                             \r",
      " 76% | ETA:  0:00:00 | Calculating                                             \r",
      " 77% | ETA:  0:00:00 | Calculating                                             \r",
      " 78% | ETA:  0:00:00 | Calculating                                             \r",
      " 79% | ETA:  0:00:00 | Calculating                                             \r",
      " 80% | ETA:  0:00:00 | Calculating                                             \r",
      " 81% | ETA:  0:00:00 | Calculating                                             \r",
      " 82% | ETA:  0:00:00 | Calculating                                             \r",
      " 83% | ETA:  0:00:00 | Calculating                                             \r",
      " 84% | ETA:  0:00:00 | Calculating                                             \r",
      " 85% | ETA:  0:00:00 | Calculating                                             \r",
      " 86% | ETA:  0:00:00 | Calculating                                             \r",
      " 87% | ETA:  0:00:00 | Calculating                                             \r",
      " 88% | ETA:  0:00:00 | Calculating                                             \r",
      " 89% | ETA:  0:00:00 | Calculating                                             \r",
      " 90% | ETA:  0:00:00 | Calculating                                             \r",
      " 91% | ETA:  0:00:00 | Calculating                                             \r",
      " 92% | ETA:  0:00:00 | Calculating                                             \r",
      " 93% | ETA:  0:00:00 | Calculating                                             \r",
      " 94% | ETA:  0:00:00 | Calculating                                             \r",
      " 95% | ETA:  0:00:00 | Calculating                                             \r",
      " 96% | ETA:  0:00:00 | Calculating                                             \r",
      " 97% | ETA:  0:00:00 | Calculating                                             \r",
      " 98% | ETA:  0:00:00 | Calculating                                             \r",
      " 99% | ETA:  0:00:00 | Calculating                                             \r",
      "100% | ETA:  0:00:00 | Calculating                                             "
     ]
    },
    {
     "name": "stdout",
     "output_type": "stream",
     "text": [
      "\n",
      "Finished in 0.172126 seconds\n"
     ]
    },
    {
     "data": {
      "image/png": "[encoded data removed]",
      "text/plain": [
       "<matplotlib.figure.Figure at 0xd056530dd8>"
      ]
     },
     "metadata": {},
     "output_type": "display_data"
    }
   ],
   "source": [
    "from pykat import finesse\n",
    "#import matplotlib\n",
    "#import matplotlib.pyplot as plt\n",
    "from IPython.utils import io\n",
    "with io.capture_output() as captured:\n",
    "    from IPython import get_ipython\n",
    "    ipython = get_ipython()\n",
    "    ipython.magic(\"matplotlib inline\");\n",
    "kat = finesse.kat()\n",
    "code = '''\n",
    "l laser 1 0 n0\n",
    "s s1 1 n0 n1\n",
    "m mirror 0.9 0.1 0 n1 n2\n",
    "pd pout n1\n",
    "xaxis laser P lin 0 10 200\n",
    "yaxis abs\n",
    "'''\n",
    "kat.parseCommands(code)\n",
    "out = kat.run()\n",
    "fig = out.plot()"
   ]
  },
  {
   "cell_type": "code",
   "execution_count": null,
   "metadata": {
    "collapsed": true
   },
   "outputs": [],
   "source": []
  }
 ],
 "metadata": {
  "kernelspec": {
   "display_name": "Python 3",
   "language": "python",
   "name": "python3"
  },
  "language_info": {
   "codemirror_mode": {
    "name": "ipython",
    "version": 3
   },
   "file_extension": ".py",
   "mimetype": "text/x-python",
   "name": "python",
   "nbconvert_exporter": "python",
   "pygments_lexer": "ipython3",
   "version": "3.6.0"
  }
 },
 "nbformat": 4,
 "nbformat_minor": 2
}
