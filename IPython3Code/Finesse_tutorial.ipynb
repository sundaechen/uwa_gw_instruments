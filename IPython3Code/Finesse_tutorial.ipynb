{
 "cells": [
  {
   "cell_type": "code",
   "execution_count": 1,
   "metadata": {},
   "outputs": [
    {
     "name": "stdout",
     "output_type": "stream",
     "text": [
      "                                              ..-\n",
      "    PyKat 1.0.18          _                  '(\n",
      "                          \\`.|\\.__...-\"\"\"\"-_.\" )\n",
      "       ..+-----.._        /  ' `            .-'\n",
      "   . '            `:      7/* _/._\\    \\   (\n",
      "  (        '::;;+;;:      `-\"' =\" /,`\"\" `) /\n",
      "  L.        \\`:::a:f            c_/     n_'\n",
      "  ..`--...___`.  .    ,  \n",
      "   `^-....____:   +.      www.gwoptics.org/pykat\n",
      "\n"
     ]
    }
   ],
   "source": [
    "from pykat import finesse\n",
    "import matplotlib.pyplot as plt\n",
    "%matplotlib inline"
   ]
  },
  {
   "cell_type": "code",
   "execution_count": 32,
   "metadata": {},
   "outputs": [
    {
     "name": "stdout",
     "output_type": "stream",
     "text": [
      "--------------------------------------------------------------\n",
      "Running kat - Started at 2017-07-25 18:29:36.156569\n"
     ]
    },
    {
     "name": "stderr",
     "output_type": "stream",
     "text": [
      " 66% | ETA:  0:00:02 | Saving data                                             "
     ]
    },
    {
     "name": "stdout",
     "output_type": "stream",
     "text": [
      "\n",
      "Finished in 5.21026 seconds\n"
     ]
    },
    {
     "name": "stderr",
     "output_type": "stream",
     "text": [
      "\r",
      " 67% | ETA:  0:00:02 | Saving data                                             \r",
      " 68% | ETA:  0:00:02 | Saving data                                             \r",
      " 69% | ETA:  0:00:02 | Saving data                                             \r",
      " 70% | ETA:  0:00:02 | Saving data                                             \r",
      " 71% | ETA:  0:00:01 | Saving data                                             \r",
      " 72% | ETA:  0:00:01 | Saving data                                             \r",
      " 73% | ETA:  0:00:01 | Saving data                                             \r",
      " 74% | ETA:  0:00:01 | Saving data                                             \r",
      " 75% | ETA:  0:00:01 | Saving data                                             \r",
      " 76% | ETA:  0:00:01 | Saving data                                             \r",
      " 77% | ETA:  0:00:01 | Saving data                                             \r",
      " 78% | ETA:  0:00:01 | Saving data                                             \r",
      " 79% | ETA:  0:00:01 | Saving data                                             \r",
      " 80% | ETA:  0:00:01 | Saving data                                             \r",
      " 81% | ETA:  0:00:01 | Saving data                                             \r",
      " 82% | ETA:  0:00:01 | Saving data                                             \r",
      " 83% | ETA:  0:00:00 | Saving data                                             \r",
      " 84% | ETA:  0:00:00 | Saving data                                             \r",
      " 85% | ETA:  0:00:00 | Saving data                                             \r",
      " 86% | ETA:  0:00:00 | Saving data                                             \r",
      " 87% | ETA:  0:00:00 | Saving data                                             \r",
      " 88% | ETA:  0:00:00 | Saving data                                             \r",
      " 89% | ETA:  0:00:00 | Saving data                                             \r",
      " 90% | ETA:  0:00:00 | Saving data                                             \r",
      " 91% | ETA:  0:00:00 | Saving data                                             \r",
      " 92% | ETA:  0:00:00 | Saving data                                             \r",
      " 93% | ETA:  0:00:00 | Saving data                                             \r",
      " 94% | ETA:  0:00:00 | Saving data                                             \r",
      " 95% | ETA:  0:00:00 | Saving data                                             \r",
      " 96% | ETA:  0:00:00 | Saving data                                             \r",
      " 97% | ETA:  0:00:00 | Saving data                                             \r",
      " 98% | ETA:  0:00:00 | Saving data                                             \r",
      " 99% | ETA:  0:00:00 | Saving data                                             \r",
      "100% | ETA:  0:00:00 | Saving data                                             "
     ]
    },
    {
     "data": {
      "text/plain": [
       "[<matplotlib.lines.Line2D at 0x750db554a8>]"
      ]
     },
     "execution_count": 32,
     "metadata": {},
     "output_type": "execute_result"
    },
    {
     "data": {
      "image/png": "[encoded data removed]",
      "text/plain": [
       "<matplotlib.figure.Figure at 0x750eb8f198>"
      ]
     },
     "metadata": {},
     "output_type": "display_data"
    }
   ],
   "source": [
    "kat = finesse.kat()\n",
    "\n",
    "kat.parseCommands(\"\"\"\n",
    "l i1 1 0 n1\n",
    "s s0 1 n1 n2\n",
    "\n",
    "mod mod 12M 0 1 pm n2 nn\n",
    "s s1 1 nn n3\n",
    "\n",
    "m1 m1 0.000002 0 0 n3 n4\n",
    "s s_cav 0.1 n4 n5\n",
    "m1 m2 0.000002 0 0 n5 n6\n",
    "attr m2 Rc 0.1\n",
    "\n",
    "cav cavity1 m1 n4 m2 n5\n",
    "maxtem 3\n",
    "pd pow n5\n",
    "pd1 errsig 12M 0 n3\n",
    "\n",
    "xaxis m2 phi lin -10 10 20000\n",
    "\"\"\")\n",
    "\n",
    "out = kat.run()\n",
    "\n",
    "# plt.plot(out.x, out[\"pow\"])\n",
    "plt.plot(out.x,out[\"errsig\"])"
   ]
  },
  {
   "cell_type": "code",
   "execution_count": 33,
   "metadata": {},
   "outputs": [
    {
     "data": {
      "text/plain": [
       "[<matplotlib.lines.Line2D at 0x750ece5d68>]"
      ]
     },
     "execution_count": 33,
     "metadata": {},
     "output_type": "execute_result"
    },
    {
     "data": {
      "image/png": "[encoded data removed]",
      "text/plain": [
       "<matplotlib.figure.Figure at 0x750eba16a0>"
      ]
     },
     "metadata": {},
     "output_type": "display_data"
    }
   ],
   "source": [
    "plt.plot(out.x,out[\"pow\"])"
   ]
  },
  {
   "cell_type": "code",
   "execution_count": 23,
   "metadata": {},
   "outputs": [
    {
     "data": {
      "text/plain": [
       "0.0002"
      ]
     },
     "execution_count": 23,
     "metadata": {},
     "output_type": "execute_result"
    }
   ],
   "source": [
    "200./10**6"
   ]
  },
  {
   "cell_type": "code",
   "execution_count": null,
   "metadata": {
    "collapsed": true
   },
   "outputs": [],
   "source": [
    "kat2 = kat.deepcopy()\n",
    "kat2.m1.R = 0.8\n",
    "kat2.m1.T = 0.2\n",
    "kat2.m1.L = 0.0\n",
    "kat2.parseCommands(\"pd Pt n6\")\n",
    "out2 = kat2.run()\n",
    "plt.plot(out2.x, out2[\"Pt\"])"
   ]
  },
  {
   "cell_type": "code",
   "execution_count": null,
   "metadata": {
    "collapsed": true
   },
   "outputs": [],
   "source": [
    "plt.plot(out.x, out[\"pow\"])\n",
    "plt.plot(out2.x,out2[\"pow\"])"
   ]
  },
  {
   "cell_type": "code",
   "execution_count": null,
   "metadata": {
    "collapsed": true
   },
   "outputs": [],
   "source": [
    "plt.plot(out2.x,out2.y)"
   ]
  },
  {
   "cell_type": "code",
   "execution_count": null,
   "metadata": {
    "collapsed": true
   },
   "outputs": [],
   "source": [
    "kat.parseCommands(\"\"\"\n",
    "attr m1 xbeta 0.00001\n",
    "ad A01 0 1 0 n4\n",
    "ad A10 1 0 0 n4\n",
    "ad A00 0 0 0 n4\n",
    "yaxis re:im\n",
    "\"\"\")\n",
    "kat.maxtem = 4\n",
    "out = kat.run()\n",
    "plt.plot(out.x,abs(out[\"A01\"])**2, label='01')\n",
    "plt.plot(out.x,abs(out[\"A10\"])**2, label='10')\n",
    "plt.plot(out.x,abs(out[\"A00\"])**2, label=\"00\")\n",
    "plt.legend()"
   ]
  },
  {
   "cell_type": "code",
   "execution_count": null,
   "metadata": {
    "collapsed": true
   },
   "outputs": [],
   "source": []
  }
 ],
 "metadata": {
  "kernelspec": {
   "display_name": "Python 3",
   "language": "python",
   "name": "python3"
  },
  "language_info": {
   "codemirror_mode": {
    "name": "ipython",
    "version": 3
   },
   "file_extension": ".py",
   "mimetype": "text/x-python",
   "name": "python",
   "nbconvert_exporter": "python",
   "pygments_lexer": "ipython3",
   "version": "3.6.0"
  }
 },
 "nbformat": 4,
 "nbformat_minor": 2
}
