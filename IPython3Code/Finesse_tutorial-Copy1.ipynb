{
 "cells": [
  {
   "cell_type": "code",
   "execution_count": 1,
   "metadata": {},
   "outputs": [
    {
     "name": "stdout",
     "output_type": "stream",
     "text": [
      "                                              ..-\n",
      "    PyKat 1.0.18          _                  '(\n",
      "                          \\`.|\\.__...-\"\"\"\"-_.\" )\n",
      "       ..+-----.._        /  ' `            .-'\n",
      "   . '            `:      7/* _/._\\    \\   (\n",
      "  (        '::;;+;;:      `-\"' =\" /,`\"\" `) /\n",
      "  L.        \\`:::a:f            c_/     n_'\n",
      "  ..`--...___`.  .    ,  \n",
      "   `^-....____:   +.      www.gwoptics.org/pykat\n",
      "\n"
     ]
    }
   ],
   "source": [
    "from pykat import finesse\n",
    "import matplotlib.pyplot as plt\n",
    "%matplotlib inline"
   ]
  },
  {
   "cell_type": "code",
   "execution_count": 2,
   "metadata": {},
   "outputs": [
    {
     "name": "stdout",
     "output_type": "stream",
     "text": [
      "Parsing `tem laser 1 0 .1 40` into pykat object not implemented yet, added as extra line.\n",
      "Parsing `x3axis MNE phi lin -90 90 100` into pykat object not implemented yet, added as extra line.\n",
      "Parsing `video` into pykat object not implemented yet, added as extra line.\n",
      "Ignoring Gnuplot/Python terminal command 'gnuterm png'\n",
      "Parsing `GNUPLOT` into pykat object not implemented yet, added as extra line.\n",
      "Parsing `set cbrange[0:2e-3]` into pykat object not implemented yet, added as extra line.\n",
      "Parsing `set nosurface` into pykat object not implemented yet, added as extra line.\n",
      "Parsing `set pm3d` into pykat object not implemented yet, added as extra line.\n",
      "Parsing `set view map` into pykat object not implemented yet, added as extra line.\n",
      "Parsing `set palette gray` into pykat object not implemented yet, added as extra line.\n",
      "Parsing `set format z '%.1g'` into pykat object not implemented yet, added as extra line.\n",
      "Parsing `set format cb '%.1g'` into pykat object not implemented yet, added as extra line.\n",
      "Parsing `set size ratio 1` into pykat object not implemented yet, added as extra line.\n",
      "Parsing `unset grid` into pykat object not implemented yet, added as extra line.\n",
      "Parsing `set format \"\"` into pykat object not implemented yet, added as extra line.\n",
      "Parsing `unset colorbox` into pykat object not implemented yet, added as extra line.\n",
      "Parsing `unset label` into pykat object not implemented yet, added as extra line.\n",
      "Parsing `unset title` into pykat object not implemented yet, added as extra line.\n",
      "Parsing `unset xlabel` into pykat object not implemented yet, added as extra line.\n",
      "Parsing `unset ylabel` into pykat object not implemented yet, added as extra line.\n",
      "Parsing `unset key` into pykat object not implemented yet, added as extra line.\n",
      "Parsing `unset tics` into pykat object not implemented yet, added as extra line.\n",
      "Parsing `unset border` into pykat object not implemented yet, added as extra line.\n",
      "Parsing `set term pngcairo size 100,100 monochrome enhanced` into pykat object not implemented yet, added as extra line.\n",
      "Parsing `set lmargin 0` into pykat object not implemented yet, added as extra line.\n",
      "Parsing `set bmargin 0` into pykat object not implemented yet, added as extra line.\n",
      "Parsing `set rmargin at screen 0.99999` into pykat object not implemented yet, added as extra line.\n",
      "Parsing `set tmargin at screen 0.99999` into pykat object not implemented yet, added as extra line.\n",
      "Parsing `END` into pykat object not implemented yet, added as extra line.\n",
      "--------------------------------------------------------------\n",
      "Running kat - Started at 2017-07-25 17:32:19.894932\n"
     ]
    },
    {
     "name": "stderr",
     "output_type": "stream",
     "text": [
      "C:\\Miniconda3\\lib\\site-packages\\pykat\\finesse.py:1651: UserWarning: 'KatRun2D' does not have attribute called 'yaxis'\n",
      "  r.yaxis = self.yaxis\n",
      " 54% | ETA:  0:00:00 | Calculating                                             "
     ]
    },
    {
     "name": "stdout",
     "output_type": "stream",
     "text": [
      "\n",
      "Finished in 123.475 seconds\n"
     ]
    },
    {
     "name": "stderr",
     "output_type": "stream",
     "text": [
      "\r",
      " 54% | ETA:  0:00:47 | Calculating                                             \r",
      " 55% | ETA:  0:00:45 | Calculating                                             \r",
      " 56% | ETA:  0:00:43 | Calculating                                             \r",
      " 57% | ETA:  0:00:42 | Calculating                                             \r",
      " 58% | ETA:  0:00:40 | Calculating                                             \r",
      " 59% | ETA:  0:00:38 | Calculating                                             \r",
      " 60% | ETA:  0:00:37 | Calculating                                             \r",
      " 61% | ETA:  0:00:35 | Calculating                                             \r",
      " 62% | ETA:  0:00:34 | Calculating                                             \r",
      " 63% | ETA:  0:00:32 | Calculating                                             \r",
      " 64% | ETA:  0:00:31 | Calculating                                             \r",
      " 65% | ETA:  0:00:29 | Calculating                                             \r",
      " 66% | ETA:  0:00:28 | Calculating                                             \r",
      " 67% | ETA:  0:00:27 | Calculating                                             \r",
      " 68% | ETA:  0:00:26 | Calculating                                             \r",
      " 69% | ETA:  0:00:25 | Calculating                                             \r",
      " 70% | ETA:  0:00:23 | Calculating                                             \r",
      " 71% | ETA:  0:00:22 | Calculating                                             \r",
      " 72% | ETA:  0:00:21 | Calculating                                             \r",
      " 73% | ETA:  0:00:20 | Calculating                                             \r",
      " 74% | ETA:  0:00:19 | Calculating                                             \r",
      " 75% | ETA:  0:00:18 | Calculating                                             \r",
      " 76% | ETA:  0:00:17 | Calculating                                             \r",
      " 77% | ETA:  0:00:16 | Calculating                                             \r",
      " 78% | ETA:  0:00:15 | Calculating                                             \r",
      " 79% | ETA:  0:00:14 | Calculating                                             \r",
      " 80% | ETA:  0:00:13 | Calculating                                             \r",
      " 81% | ETA:  0:00:13 | Calculating                                             \r",
      " 82% | ETA:  0:00:12 | Calculating                                             \r",
      " 83% | ETA:  0:00:11 | Calculating                                             \r",
      " 84% | ETA:  0:00:10 | Calculating                                             \r",
      " 85% | ETA:  0:00:09 | Calculating                                             \r",
      " 86% | ETA:  0:00:09 | Calculating                                             \r",
      " 87% | ETA:  0:00:08 | Calculating                                             \r",
      " 88% | ETA:  0:00:07 | Calculating                                             \r",
      " 89% | ETA:  0:00:06 | Calculating                                             \r",
      " 90% | ETA:  0:00:06 | Calculating                                             \r",
      " 91% | ETA:  0:00:05 | Calculating                                             \r",
      " 92% | ETA:  0:00:04 | Calculating                                             \r",
      " 93% | ETA:  0:00:04 | Calculating                                             \r",
      " 94% | ETA:  0:00:03 | Calculating                                             \r",
      " 95% | ETA:  0:00:02 | Calculating                                             \r",
      " 96% | ETA:  0:00:02 | Calculating                                             \r",
      " 97% | ETA:  0:00:01 | Calculating                                             \r",
      " 98% | ETA:  0:00:01 | Calculating                                             \r",
      " 99% | ETA:  0:00:00 | Calculating                                             \r",
      "100% | ETA:  0:00:00 | Calculating                                             "
     ]
    },
    {
     "ename": "BasePyKatException",
     "evalue": "No output by the name pow found",
     "output_type": "error",
     "traceback": [
      "\u001b[1;31m---------------------------------------------------------------------------\u001b[0m",
      "\u001b[1;31mBasePyKatException\u001b[0m                        Traceback (most recent call last)",
      "\u001b[1;32m<ipython-input-2-8549ed4e87d1>\u001b[0m in \u001b[0;36m<module>\u001b[1;34m()\u001b[0m\n\u001b[0;32m     71\u001b[0m \u001b[0mout\u001b[0m \u001b[1;33m=\u001b[0m \u001b[0mkat\u001b[0m\u001b[1;33m.\u001b[0m\u001b[0mrun\u001b[0m\u001b[1;33m(\u001b[0m\u001b[1;33m)\u001b[0m\u001b[1;33m\u001b[0m\u001b[0m\n\u001b[0;32m     72\u001b[0m \u001b[1;33m\u001b[0m\u001b[0m\n\u001b[1;32m---> 73\u001b[1;33m \u001b[0mplt\u001b[0m\u001b[1;33m.\u001b[0m\u001b[0mplot\u001b[0m\u001b[1;33m(\u001b[0m\u001b[0mout\u001b[0m\u001b[1;33m.\u001b[0m\u001b[0mx\u001b[0m\u001b[1;33m,\u001b[0m \u001b[0mout\u001b[0m\u001b[1;33m[\u001b[0m\u001b[1;34m\"pow\"\u001b[0m\u001b[1;33m]\u001b[0m\u001b[1;33m)\u001b[0m\u001b[1;33m\u001b[0m\u001b[0m\n\u001b[0m\u001b[0;32m     74\u001b[0m \u001b[1;31m#plt.plot(out.x,out[\"errsig\"]\u001b[0m\u001b[1;33m\u001b[0m\u001b[1;33m\u001b[0m\u001b[0m\n",
      "\u001b[1;32mC:\\Miniconda3\\lib\\site-packages\\pykat\\finesse.py\u001b[0m in \u001b[0;36m__getitem__\u001b[1;34m(self, value)\u001b[0m\n\u001b[0;32m    678\u001b[0m             \u001b[1;32mreturn\u001b[0m \u001b[0mself\u001b[0m\u001b[1;33m.\u001b[0m\u001b[0mz\u001b[0m\u001b[1;33m[\u001b[0m\u001b[0midx\u001b[0m\u001b[1;33m]\u001b[0m\u001b[1;33m.\u001b[0m\u001b[0msqueeze\u001b[0m\u001b[1;33m(\u001b[0m\u001b[1;33m)\u001b[0m\u001b[1;33m\u001b[0m\u001b[0m\n\u001b[0;32m    679\u001b[0m         \u001b[1;32melse\u001b[0m\u001b[1;33m:\u001b[0m\u001b[1;33m\u001b[0m\u001b[0m\n\u001b[1;32m--> 680\u001b[1;33m             \u001b[1;32mraise\u001b[0m  \u001b[0mpkex\u001b[0m\u001b[1;33m.\u001b[0m\u001b[0mBasePyKatException\u001b[0m\u001b[1;33m(\u001b[0m\u001b[1;34m\"No output by the name {0} found\"\u001b[0m\u001b[1;33m.\u001b[0m\u001b[0mformat\u001b[0m\u001b[1;33m(\u001b[0m\u001b[0mstr\u001b[0m\u001b[1;33m(\u001b[0m\u001b[0mvalue\u001b[0m\u001b[1;33m)\u001b[0m\u001b[1;33m)\u001b[0m\u001b[1;33m)\u001b[0m\u001b[1;33m\u001b[0m\u001b[0m\n\u001b[0m\u001b[0;32m    681\u001b[0m \u001b[1;33m\u001b[0m\u001b[0m\n\u001b[0;32m    682\u001b[0m \u001b[1;33m@\u001b[0m\u001b[0mcanFreeze\u001b[0m\u001b[1;33m\u001b[0m\u001b[0m\n",
      "\u001b[1;31mBasePyKatException\u001b[0m: No output by the name pow found"
     ]
    }
   ],
   "source": [
    "kat = finesse.kat()\n",
    "\n",
    "kat.parseCommands(\"\"\"\n",
    "l laser 0.5 0 0 nin\n",
    "tem laser 1 0 .1 40\n",
    "gauss g1 laser nin 18m 0\n",
    "s s1 1m nin nEO1\n",
    "# Modulator for RF modulation frequency\n",
    "mod eom1 $fMI .4 1 pm 0 nEO1 nEO2\n",
    "const fMI 6.3  \n",
    "s s2 1 nEO2 nMNI1\n",
    " \n",
    "% the following optics were taken from an old model\n",
    "% of the Virgo north arm cavity\n",
    "m MNI 0.8819765 0.118 0 nMNI1 nMNI2   \n",
    "s sN1 2999.5 nMNI2 nMNE1\n",
    "m MNE 0.99995 50u 0 nMNE1 nMNE2\n",
    "attr MNE Rc 3602.50\n",
    "s sN2 1.77 nMNE2 nout\n",
    " \n",
    "# use Hermite-Gauss modes\n",
    "maxtem 7\n",
    "# compute cavity eigenmodes\n",
    "cav cN MNI nMNI2 MNE nMNE1\n",
    "# computing the beam shape in transmission\n",
    "beam b1 nout\n",
    "xaxis b1 x lin -8 8 100\n",
    "x2axis b1 y lin -8 8 100\n",
    " \n",
    "% to create a video, we can do an image sequency with Finesse\n",
    "% the follwoing two commands do that for you:\n",
    "x3axis MNE phi lin -90 90 100\n",
    "video\n",
    " \n",
    "% use Gnuplot to create png files\n",
    "gnuterm png\n",
    "% some Gnuplot settings to format the images\n",
    "GNUPLOT\n",
    "set cbrange[0:2e-3]\n",
    "set nosurface\n",
    "#set colorbox vertical\n",
    "#set colorbox user origin .85,.1 size .04,.8\n",
    "set pm3d\n",
    "set view map\n",
    "set palette gray\n",
    "set format z '%.1g'\n",
    "set format cb '%.1g'\n",
    "set size ratio 1\n",
    "unset grid\n",
    "# the following commands strip all axes and tic labels \n",
    "# to produce a small video without ornaments.\n",
    "# Remove these if you like a normal apperance with\n",
    "# labels, a colorbar, etc.\n",
    "set format \"\"\n",
    "unset colorbox\n",
    "unset label\n",
    "unset title\n",
    "unset xlabel\n",
    "unset ylabel\n",
    "unset key\n",
    "unset tics\n",
    "unset border\n",
    "set term pngcairo size 100,100 monochrome enhanced\n",
    "set lmargin 0\n",
    "set bmargin 0\n",
    "set rmargin at screen 0.99999\n",
    "set tmargin at screen 0.99999\n",
    "END\n",
    "\"\"\")\n",
    "\n",
    "out = kat.run()\n",
    "\n",
    "plt.plot(out.x, out[\"pow\"])\n",
    "#plt.plot(out.x,out[\"errsig\"]"
   ]
  },
  {
   "cell_type": "code",
   "execution_count": 13,
   "metadata": {},
   "outputs": [
    {
     "data": {
      "text/plain": [
       "0.0002"
      ]
     },
     "execution_count": 13,
     "metadata": {},
     "output_type": "execute_result"
    }
   ],
   "source": [
    "200./10**6"
   ]
  },
  {
   "cell_type": "code",
   "execution_count": null,
   "metadata": {
    "collapsed": true
   },
   "outputs": [],
   "source": [
    "kat2 = kat.deepcopy()\n",
    "kat2.m1.R = 0.8\n",
    "kat2.m1.T = 0.2\n",
    "kat2.m1.L = 0.0\n",
    "kat2.parseCommands(\"pd Pt n6\")\n",
    "out2 = kat2.run()\n",
    "plt.plot(out2.x, out2[\"Pt\"])"
   ]
  },
  {
   "cell_type": "code",
   "execution_count": null,
   "metadata": {
    "collapsed": true
   },
   "outputs": [],
   "source": [
    "plt.plot(out.x, out[\"pow\"])\n",
    "plt.plot(out2.x,out2[\"pow\"])"
   ]
  },
  {
   "cell_type": "code",
   "execution_count": null,
   "metadata": {
    "collapsed": true
   },
   "outputs": [],
   "source": [
    "plt.plot(out2.x,out2.y)"
   ]
  },
  {
   "cell_type": "code",
   "execution_count": null,
   "metadata": {
    "collapsed": true
   },
   "outputs": [],
   "source": [
    "kat.parseCommands(\"\"\"\n",
    "attr m1 xbeta 0.00001\n",
    "ad A01 0 1 0 n4\n",
    "ad A10 1 0 0 n4\n",
    "ad A00 0 0 0 n4\n",
    "yaxis re:im\n",
    "\"\"\")\n",
    "kat.maxtem = 4\n",
    "out = kat.run()\n",
    "plt.plot(out.x,abs(out[\"A01\"])**2, label='01')\n",
    "plt.plot(out.x,abs(out[\"A10\"])**2, label='10')\n",
    "plt.plot(out.x,abs(out[\"A00\"])**2, label=\"00\")\n",
    "plt.legend()"
   ]
  },
  {
   "cell_type": "code",
   "execution_count": null,
   "metadata": {
    "collapsed": true
   },
   "outputs": [],
   "source": []
  }
 ],
 "metadata": {
  "kernelspec": {
   "display_name": "Python 3",
   "language": "python",
   "name": "python3"
  },
  "language_info": {
   "codemirror_mode": {
    "name": "ipython",
    "version": 3
   },
   "file_extension": ".py",
   "mimetype": "text/x-python",
   "name": "python",
   "nbconvert_exporter": "python",
   "pygments_lexer": "ipython3",
   "version": "3.6.0"
  }
 },
 "nbformat": 4,
 "nbformat_minor": 2
}
