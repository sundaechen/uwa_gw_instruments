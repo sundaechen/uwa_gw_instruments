{
 "cells": [
  {
   "cell_type": "code",
   "execution_count": 2,
   "metadata": {
    "collapsed": true
   },
   "outputs": [],
   "source": [
    "import numpy as np\n",
    "import matplotlib.pyplot as plt"
   ]
  },
  {
   "cell_type": "markdown",
   "metadata": {},
   "source": [
    "Gaussian beam divergence angle"
   ]
  },
  {
   "cell_type": "code",
   "execution_count": 3,
   "metadata": {},
   "outputs": [
    {
     "data": {
      "text/plain": [
       "0.9712361556249746"
      ]
     },
     "execution_count": 3,
     "metadata": {},
     "output_type": "execute_result"
    }
   ],
   "source": [
    "wavelength = 1.064e-6 \n",
    "waist = 20e-6\n",
    "theta = wavelength/(3.14*waist)\n",
    "theta/3.14*180 # diverge angle in degree"
   ]
  },
  {
   "cell_type": "code",
   "execution_count": 4,
   "metadata": {},
   "outputs": [
    {
     "data": {
      "text/plain": [
       "1.1804511278195489"
      ]
     },
     "execution_count": 4,
     "metadata": {},
     "output_type": "execute_result"
    }
   ],
   "source": [
    "(3.14*waist**2)/wavelength*1000 #Rayleigh range in mm"
   ]
  },
  {
   "cell_type": "code",
   "execution_count": 40,
   "metadata": {},
   "outputs": [
    {
     "data": {
      "image/png": "[encoded data removed]",
      "text/plain": [
       "<matplotlib.figure.Figure at 0xfe7d5d3e80>"
      ]
     },
     "metadata": {},
     "output_type": "display_data"
    }
   ],
   "source": [
    "x = np.linspace(-60,60,1000)\n",
    "w = 1\n",
    "y = 0\n",
    "for i in np.linspace(-50,50,101):\n",
    "#    print(i)\n",
    "    y = y + np.exp(-(x+i*1*w)**2/w**2)\n",
    "plt.plot(x,y)\n",
    "\n",
    "y = 0\n",
    "for i in np.linspace(-100,100,201):\n",
    "#    print(i)\n",
    "    y = y + 0.5*np.exp(-(x+i*0.5*w)**2/w**2)\n",
    "plt.plot(x,y)\n",
    "# plt.plot(x,3.5*np.exp(-(x-25)**2/w**2))\n",
    "plt.xlim(45,55)\n",
    "plt.show()"
   ]
  },
  {
   "cell_type": "code",
   "execution_count": 169,
   "metadata": {},
   "outputs": [
    {
     "data": {
      "image/png": "[encoded data removed]",
      "text/plain": [
       "<matplotlib.figure.Figure at 0x5263b5e860>"
      ]
     },
     "metadata": {},
     "output_type": "display_data"
    }
   ],
   "source": [
    "x = np.linspace(-1000,1000,1000)\n",
    "plt.plot(x,2.5*np.exp(-x**2/133**2))\n",
    "plt.plot(x,0.79*np.exp(-x**2/77**2))\n",
    "plt.show()"
   ]
  },
  {
   "cell_type": "code",
   "execution_count": 20,
   "metadata": {},
   "outputs": [
    {
     "data": {
      "text/plain": [
       "array([-50., -49., -48., -47., -46., -45., -44., -43., -42., -41., -40.,\n",
       "       -39., -38., -37., -36., -35., -34., -33., -32., -31., -30., -29.,\n",
       "       -28., -27., -26., -25., -24., -23., -22., -21., -20., -19., -18.,\n",
       "       -17., -16., -15., -14., -13., -12., -11., -10.,  -9.,  -8.,  -7.,\n",
       "        -6.,  -5.,  -4.,  -3.,  -2.,  -1.,   0.,   1.,   2.,   3.,   4.,\n",
       "         5.,   6.,   7.,   8.,   9.,  10.,  11.,  12.,  13.,  14.,  15.,\n",
       "        16.,  17.,  18.,  19.,  20.,  21.,  22.,  23.,  24.,  25.,  26.,\n",
       "        27.,  28.,  29.,  30.,  31.,  32.,  33.,  34.,  35.,  36.,  37.,\n",
       "        38.,  39.,  40.,  41.,  42.,  43.,  44.,  45.,  46.,  47.,  48.,\n",
       "        49.,  50.])"
      ]
     },
     "execution_count": 20,
     "metadata": {},
     "output_type": "execute_result"
    }
   ],
   "source": [
    "np.linspace(-50,50,101)"
   ]
  },
  {
   "cell_type": "code",
   "execution_count": null,
   "metadata": {
    "collapsed": true
   },
   "outputs": [],
   "source": []
  }
 ],
 "metadata": {
  "kernelspec": {
   "display_name": "Python 3",
   "language": "python",
   "name": "python3"
  },
  "language_info": {
   "codemirror_mode": {
    "name": "ipython",
    "version": 3
   },
   "file_extension": ".py",
   "mimetype": "text/x-python",
   "name": "python",
   "nbconvert_exporter": "python",
   "pygments_lexer": "ipython3",
   "version": "3.6.0"
  }
 },
 "nbformat": 4,
 "nbformat_minor": 2
}
